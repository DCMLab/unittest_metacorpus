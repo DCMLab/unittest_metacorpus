{
 "cells": [
  {
   "cell_type": "markdown",
   "id": "dbd2ae50-56b6-473b-8e50-f80a017a2871",
   "metadata": {},
   "source": [
    "# Change instruments feature"
   ]
  },
  {
   "cell_type": "code",
   "execution_count": 3,
   "id": "7b0dc3b0-b9f2-4bce-b97a-e6c361a3c7dc",
   "metadata": {},
   "outputs": [],
   "source": [
    "import os\n",
    "from copy import copy\n",
    "import ms3\n",
    "from bs4 import BeautifulSoup"
   ]
  },
  {
   "cell_type": "markdown",
   "id": "ca441ec7-ba7e-41b7-aade-68f4d0323bdb",
   "metadata": {},
   "source": [
    "This is some code I wrote recently to do one particular instrument change on a score. The use case was that I had a bunch of scores that had one **piano** staff but the music it contained was actually for **drumset**. So I had to change the instrument and also systematically replace all notes. This latter part I removed from the notebook because it's not relevant but the `repair_part()` function might be a good starting point for your task. I developed it by doing the instrument change manually in MuseScore, inspecting the changes in the `.mscx` file, and then simply performing the required modifications on the XML structure. I've added a couple of comments to remind you the BeautifulSoup interface. In the comments, I'm using the words \"tag\" and \"node\" interchangeably."
   ]
  },
  {
   "cell_type": "code",
   "execution_count": 32,
   "id": "ad85f85f-85f5-414a-86de-ad529dbf2e7d",
   "metadata": {},
   "outputs": [],
   "source": [
    "def append_new_tag(soup, append_to_tag, new_tag_name, new_tag_value=None, **attributes):\n",
    "    new_tag = soup.new_tag(new_tag_name, **attributes)\n",
    "    if new_tag_value is not None:\n",
    "        new_tag.string = new_tag_value\n",
    "    append_to_tag.append(new_tag)\n",
    "    \n",
    "def replace_or_create(soup, parent_tag, tag_to_change, new_value):\n",
    "    modify_this = parent_tag.find(tag_to_change)\n",
    "    if modify_this is not None:\n",
    "        modify_this.string = new_value\n",
    "    else:\n",
    "        append_new_tag(soup, parent_tag, tag_to_change, new_value)\n",
    "        \n",
    "\n",
    "def repair_part(soup: BeautifulSoup):\n",
    "    \"\"\"Applies the specific changes when changing an instrument to drumset.\"\"\"\n",
    "    part_tag = soup.find(\"Part\") # get the first <Part> tag of the whole tree, no matter where it is\n",
    "    staff_tag = part_tag.Staff # direct access to the <Staff> child node not of the <Part> tag\n",
    "    st_type_tag = staff_tag.StaffType \n",
    "    st_type_tag[\"group\"] = \"percussion\" # changes the \"group\" attribute to <StaffType group=\"percussion\">\n",
    "    st_type_tag.find(\"name\").string = \"perc5Line\" # get the first <name> tag within the <StaffType> subtree\n",
    "    append_new_tag(soup, st_type_tag, \"keysig\", \"PERC\")\n",
    "    instrument_tag = part_tag.Instrument\n",
    "    instrument_tag[\"id\"] = \"drumset\"\n",
    "    replace_or_create(soup, instrument_tag, \"longName\", \"Drumset\")\n",
    "    replace_or_create(soup, instrument_tag, \"shortName\", \"D. Set\")\n",
    "    replace_or_create(soup, instrument_tag, \"trackName\", \"Drumset\")\n",
    "    replace_or_create(soup, instrument_tag, \"instrumentId\", \"drum.group.set\")\n",
    "    append_new_tag(soup, instrument_tag, \"useDrumset\", \"1\")\n",
    "    append_new_tag(soup, instrument_tag, \"clef\", \"PERC\")\n",
    "    channel_tag = instrument_tag.Channel\n",
    "    for controller_tag in channel_tag.find_all(\"controller\"):\n",
    "        controller_tag.decompose() # removes all existing <controller> child\n",
    "    append_new_tag(soup, channel_tag, \"controller\", ctrl=\"0\", value=\"1\")\n",
    "    append_new_tag(soup, channel_tag, \"controller\", ctrl=\"32\", value=\"0\")\n",
    "    \n",
    "def store_modified(score, suffix=''):\n",
    "    file_name = score.fnames['mscx'] + f'{suffix}.mscx'\n",
    "    file_path = os.path.join(score.paths['mscx'], file_name)\n",
    "    score.store_score(file_path)\n",
    "    print(f\"Written {file_path}\")\n",
    "    \n",
    "def repair_score(file_path, suffix='', verbose=False):\n",
    "    score = ms3.Score(file_path)\n",
    "    soup = score.mscx.parsed.soup\n",
    "    repair_part(soup)\n",
    "    store_modified(score, suffix)"
   ]
  },
  {
   "cell_type": "code",
   "execution_count": 329,
   "id": "de37a134-24fd-4c70-9bf5-e022b44c6685",
   "metadata": {},
   "outputs": [],
   "source": [
    "path = \"./Brahms Op. 99iv.mscx\"\n",
    "repair_score(path, suffix='')"
   ]
  },
  {
   "cell_type": "code",
   "execution_count": 331,
   "id": "179dcd62-0eb8-4584-9e4b-a40cbbf0d068",
   "metadata": {},
   "outputs": [
    {
     "data": {
      "text/plain": [
       "{'part_1': {'staves': [1],\n",
       "  'trackName': 'Cello Steel Drums',\n",
       "  'longName': 'Drumset',\n",
       "  'shortName': 'D. Set',\n",
       "  'instrument': 'Drumset',\n",
       "  'staff_1_ambitus': {'min_midi': 36,\n",
       "   'min_name': 'C2',\n",
       "   'max_midi': 72,\n",
       "   'max_name': 'C5'}},\n",
       " 'part_2': {'staves': [2, 3],\n",
       "  'trackName': 'Piano',\n",
       "  'longName': 'Piano',\n",
       "  'shortName': 'Pno.',\n",
       "  'instrument': 'Piano',\n",
       "  'staff_2_ambitus': {'min_midi': 36,\n",
       "   'min_name': 'C2',\n",
       "   'max_midi': 96,\n",
       "   'max_name': 'C7'},\n",
       "  'staff_3_ambitus': {'min_midi': 24,\n",
       "   'min_name': 'C1',\n",
       "   'max_midi': 72,\n",
       "   'max_name': 'C5'}}}"
      ]
     },
     "execution_count": 331,
     "metadata": {},
     "output_type": "execute_result"
    }
   ],
   "source": [
    "score = ms3.Score(path)\n",
    "score.mscx.metadata['parts']"
   ]
  },
  {
   "cell_type": "markdown",
   "id": "d9b8d1e4-0398-4f41-aa49-b5ca12b76442",
   "metadata": {},
   "source": [
    "Since all the scores modified with this script had only one single staff, the code did not need to discriminate between the tags pertaining to different staves. If you open the modified Brahms score, for example, you will see that the only the upper staff (previously Cello) is changed to drumset.\n",
    "\n",
    "# Your task\n",
    "\n",
    "For development you can copy and adapt the `repair_score()` function to load, modify, and write back an individual score. This is where you can initialize the object from the new `Instrumentation(LoggedClass)` class that you will develop to conveniently change instruments. It will be initialized with `score.mscx.parsed.soup` (the XML tree) as the only argument. In the following, the variable `instrumentation` designates such an object instantiated as `Instrumentation(score.mscx.parsed.soup)`.\n",
    "\n",
    "## Accessing instrument information\n",
    "\n",
    "**`instrumentation[i]` (where i designates the ID of a staff) should return the currently set instrument name, identical to the value in the column `staff_<i>_instrument` for the respective column in `metadata.tsv`.** \n",
    "\n",
    "The `metadata['parts']` shown above is created by iterating through the soup's `<Part>` tags and getting the relevant information by calling `ms3.bs4_parser.get_part_info()`. Please study this function since it reveals the relevant XML structure. Your object will basically have to do the same thing, but with two important differences: (1) It will keep track of the references to the tags to be able to modify them when necessary. (2) It also needs to include the `<instrumentId>` tag. \n",
    "\n",
    "Every `<Part>` tag contains at least one `<Staff id=\"<i>\">` tag and exactly one `<Instrument>` tag. In other words, the `<Part>` tag assigns the same `<Instrument>` to all contained `<Staff>` tags. Therefore, the `Instrumentation` object needs to maintain a mapping from staff IDs `i` to `<Part>` tags and yield the instrument of the corresponding part.\n",
    "\n",
    "## Changing instrument\n",
    "\n",
    "**`instrumentation[i] = 'InstrumentName'` (where i designates the ID of a staff) should change the instrument information for the respective `<Part>`.** \n",
    "\n",
    "Changing the value for one staff therefore changes it for all staves that are contained in the same `<Part>`. In the example dictionary above, `part_2` pertains to staves 2 & 3, left and right hand of the piano part. Therefore, setting `instrumentation[3] = 'Violin'` and then calling `instrumentation[2]` will yield `'Violin'`, too, and setting `instrumentation[2] = 'Violin'` will do nothing."
   ]
  },
  {
   "cell_type": "code",
   "execution_count": 408,
   "id": "62188cff",
   "metadata": {},
   "outputs": [],
   "source": [
    "import bs4\n",
    "from ms3.logger import LoggedClass\n",
    "\n",
    "class Instrumentation(LoggedClass):\n",
    "    \"\"\"Easy way to read and write the fields of instrumentation in a score, that is\n",
    "    longName, shortName, instrument.\"\"\"\n",
    "    styles = ('Staff', 'instrument', 'longName', 'shortName', 'trackName', 'instrumentId')\n",
    "    keys = ('Staff', 'instrument_text', 'longName_text', 'shortName_text', 'trackName_text','instrumentId_text') # are the keys_name ok?\n",
    "    key2style = dict(zip(keys, styles))\n",
    "    style2key = dict(zip(styles, keys))\n",
    "\n",
    "    def __init__(self, soup: bs4.BeautifulSoup):\n",
    "        super().__init__('Instrumentation')\n",
    "        self.soup = soup\n",
    "        self.parts = {f\"part_{i}\": part for i, part in enumerate(self.soup.find_all('Part'), 1)}\n",
    "\n",
    "    @property\n",
    "    def text_tags(self) -> dict[str, bs4.Tag]:\n",
    "        tag_dict = {}\n",
    "        for key_part, part in self.parts.items():\n",
    "            instrument_info = part.Instrument\n",
    "            staves = [int(staff['id']) for staff in part.find_all('Staff')]\n",
    "            cur_dict = {\"instrument_text\": instrument_info[\"id\"]}      \n",
    "            for style in self.styles: \n",
    "                if style != \"instrument\":\n",
    "                    tag = instrument_info.find(style) \n",
    "                    if tag is not None:\n",
    "                        key = self.style2key[style]\n",
    "                        cur_dict[key] = tag\n",
    "            tag_dict.update(dict.fromkeys(staves, cur_dict))\n",
    "        return tag_dict\n",
    "\n",
    "    @property\n",
    "    def fields(self):\n",
    "        result = {}\n",
    "        for key, instr_data in self.text_tags.items():\n",
    "            result[key] = {}\n",
    "            for key_instr_data, tag in instr_data.items():\n",
    "                if type(tag) == bs4.element.Tag and tag is not None: \n",
    "                    value = tag.get_text()  \n",
    "                else:\n",
    "                    value = tag \n",
    "                result[key][key_instr_data] = value\n",
    "        return result\n",
    "\n",
    "    def __getitem__(self, key):\n",
    "        fields = self.fields\n",
    "        if key not in fields.keys():\n",
    "            raise KeyError(f\"Don't recognize key '{key}'\")\n",
    "        if key in fields:\n",
    "            return fields[key]\n",
    "        return"
   ]
  },
  {
   "cell_type": "code",
   "execution_count": 411,
   "id": "876278d8",
   "metadata": {},
   "outputs": [
    {
     "data": {
      "text/plain": [
       "{'instrument_text': 'drumset',\n",
       " 'longName_text': 'Drumset',\n",
       " 'shortName_text': 'D. Set',\n",
       " 'trackName_text': 'Drumset',\n",
       " 'instrumentId_text': 'drum.group.set'}"
      ]
     },
     "execution_count": 411,
     "metadata": {},
     "output_type": "execute_result"
    }
   ],
   "source": [
    "score = ms3.Score(path)\n",
    "soup = score.mscx.parsed.soup\n",
    "inst = Instrumentation(soup)\n",
    "inst[1]"
   ]
  },
  {
   "cell_type": "code",
   "execution_count": 13,
   "id": "ad979a10-1545-4695-ad04-60ec0a313dc5",
   "metadata": {},
   "outputs": [
    {
     "data": {
      "text/plain": [
       "{'76CASM34A33UM.mscx': '../../mixed_files/76CASM34A33UM.mscx',\n",
       " 'stabat_03_coloured.mscx': '../../mixed_files/stabat_03_coloured.mscx',\n",
       " 'Brahms Op. 99iv.mscx': '../../mixed_files/chamber/Brahms Op. 99iv.mscx',\n",
       " 'Did03M-Son_regina-1762-Sarti.mscx': '../../mixed_files/orchestral/Did03M-Son_regina-1762-Sarti.mscx',\n",
       " 'caldara_form.mscx': '../../mixed_files/orchestral/caldara_form.mscx',\n",
       " '05_symph_fant.mscx': '../../mixed_files/orchestral/05_symph_fant.mscx',\n",
       " 'Tempest_1st.mscx': '../../mixed_files/keyboard/nineteenth/Tempest_1st.mscx',\n",
       " 'D973deutscher01.mscx': '../../mixed_files/keyboard/nineteenth/D973deutscher01.mscx',\n",
       " 'K281-3.mscx': '../../mixed_files/keyboard/classic/K281-3.mscx',\n",
       " '12.16_Toccata_cromaticha_per_l’elevatione_phrygian.mscx': '../../mixed_files/keyboard/ancient/12.16_Toccata_cromaticha_per_l’elevatione_phrygian.mscx',\n",
       " 'BWV_0815.mscx': '../../mixed_files/keyboard/baroque/BWV_0815.mscx'}"
      ]
     },
     "execution_count": 13,
     "metadata": {},
     "output_type": "execute_result"
    }
   ],
   "source": [
    "MIXED_FILES_FOLDER = \"../../mixed_files/\" \n",
    "\n",
    "target_files_folder = os.path.join(MIXED_FILES_FOLDER, \"changed_instruments\")\n",
    "source_file2path = {}\n",
    "for path, subdirs, files in os.walk(MIXED_FILES_FOLDER):\n",
    "    current_folder = os.path.basename(path)\n",
    "    if current_folder.startswith('.') or current_folder == \"changed_instruments\":\n",
    "        continue\n",
    "    musescore_files = [f for f in files if f.endswith('.mscx')]\n",
    "    for file in musescore_files:\n",
    "        source_path = os.path.join(path, file)\n",
    "        source_file2path[file] = source_path\n",
    "source_file2path"
   ]
  },
  {
   "cell_type": "markdown",
   "id": "c8ac3e12-fe59-4252-b1a0-49b71dcbce97",
   "metadata": {},
   "source": [
    "### Test cases\n",
    "\n",
    "Three cases introduced in https://github.com/DCMLab/unittest_metacorpus/compare/0a99b04...instruments"
   ]
  },
  {
   "cell_type": "code",
   "execution_count": null,
   "id": "f44dc29a-31e5-49ce-99eb-ba5a95228c01",
   "metadata": {},
   "outputs": [],
   "source": [
    "[\n",
    "    ('BWV_0815.mscx', {1: 'Harpsichord', 2: 'Harpsichord'}),\n",
    "    ('Brahms Op. 99iv.mscx', {1: 'Piano', 2: 'Piano'}),\n",
    "]"
   ]
  }
 ],
 "metadata": {
  "kernelspec": {
   "display_name": "ms3env",
   "language": "python",
   "name": "ms3env"
  },
  "language_info": {
   "codemirror_mode": {
    "name": "ipython",
    "version": 3
   },
   "file_extension": ".py",
   "mimetype": "text/x-python",
   "name": "python",
   "nbconvert_exporter": "python",
   "pygments_lexer": "ipython3",
   "version": "3.10.7"
  }
 },
 "nbformat": 4,
 "nbformat_minor": 5
}
